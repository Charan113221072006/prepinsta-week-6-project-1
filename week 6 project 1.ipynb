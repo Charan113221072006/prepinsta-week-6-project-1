{
  "cells": [
    {
      "cell_type": "markdown",
      "metadata": {
        "id": "ss1WsZhiW5g0"
      },
      "source": [
        "**Univariate Analysis**"
      ]
    },
    {
      "cell_type": "code",
      "execution_count": null,
      "metadata": {
        "id": "xXIAMCNlJ1ac"
      },
      "outputs": [],
      "source": [
        "import pandas as pd\n",
        "import numpy as np\n",
        "import matplotlib.pyplot as plt\n",
        "import seaborn as sns"
      ]
    },
    {
      "cell_type": "markdown",
      "metadata": {
        "id": "lKkvrhGEXMY8"
      },
      "source": [
        "**Reading the Dataset**"
      ]
    },
    {
      "cell_type": "code",
      "execution_count": null,
      "metadata": {
        "id": "Ytg9r-bVKSCg"
      },
      "outputs": [],
      "source": [
        "cars=pd.read_csv(\"cars_ds_final.csv\")"
      ]
    },
    {
      "cell_type": "code",
      "execution_count": null,
      "metadata": {
        "colab": {
          "base_uri": "https://localhost:8080/"
        },
        "id": "oWbL_MQlKTtd",
        "outputId": "10cf0d65-ac7b-4494-9934-134ac2cb31ed"
      },
      "outputs": [
        {
          "data": {
            "text/plain": [
              "(1276, 141)"
            ]
          },
          "execution_count": 65,
          "metadata": {},
          "output_type": "execute_result"
        }
      ],
      "source": [
        "cars.shape"
      ]
    },
    {
      "cell_type": "code",
      "execution_count": null,
      "metadata": {
        "colab": {
          "base_uri": "https://localhost:8080/",
          "height": 446
        },
        "id": "k-5Rt9UXKb_L",
        "outputId": "721f19b7-6462-4511-9de7-414fb941d682"
      },
      "outputs": [
        {
          "data": {
            "text/html": [
              "\n",
              "  <div id=\"df-b339ecb8-2bbd-47f7-84e8-47fe44752f33\" class=\"colab-df-container\">\n",
              "    <div>\n",
              "<style scoped>\n",
              "    .dataframe tbody tr th:only-of-type {\n",
              "        vertical-align: middle;\n",
              "    }\n",
              "\n",
              "    .dataframe tbody tr th {\n",
              "        vertical-align: top;\n",
              "    }\n",
              "\n",
              "    .dataframe thead th {\n",
              "        text-align: right;\n",
              "    }\n",
              "</style>\n",
              "<table border=\"1\" class=\"dataframe\">\n",
              "  <thead>\n",
              "    <tr style=\"text-align: right;\">\n",
              "      <th></th>\n",
              "      <th>Unnamed: 0</th>\n",
              "      <th>Make</th>\n",
              "      <th>Model</th>\n",
              "      <th>Variant</th>\n",
              "      <th>Ex-Showroom_Price</th>\n",
              "      <th>Displacement</th>\n",
              "      <th>Cylinders</th>\n",
              "      <th>Valves_Per_Cylinder</th>\n",
              "      <th>Drivetrain</th>\n",
              "      <th>Cylinder_Configuration</th>\n",
              "      <th>...</th>\n",
              "      <th>Leather_Wrapped_Steering</th>\n",
              "      <th>Automatic_Headlamps</th>\n",
              "      <th>Engine_Type</th>\n",
              "      <th>ASR_/_Traction_Control</th>\n",
              "      <th>Cruise_Control</th>\n",
              "      <th>USB_Ports</th>\n",
              "      <th>Heads-Up_Display</th>\n",
              "      <th>Welcome_Lights</th>\n",
              "      <th>Battery</th>\n",
              "      <th>Electric_Range</th>\n",
              "    </tr>\n",
              "  </thead>\n",
              "  <tbody>\n",
              "    <tr>\n",
              "      <th>0</th>\n",
              "      <td>0</td>\n",
              "      <td>Tata</td>\n",
              "      <td>Nano Genx</td>\n",
              "      <td>Xt</td>\n",
              "      <td>Rs. 2,92,667</td>\n",
              "      <td>624 cc</td>\n",
              "      <td>2.0</td>\n",
              "      <td>2.0</td>\n",
              "      <td>RWD (Rear Wheel Drive)</td>\n",
              "      <td>In-line</td>\n",
              "      <td>...</td>\n",
              "      <td>NaN</td>\n",
              "      <td>NaN</td>\n",
              "      <td>NaN</td>\n",
              "      <td>NaN</td>\n",
              "      <td>NaN</td>\n",
              "      <td>NaN</td>\n",
              "      <td>NaN</td>\n",
              "      <td>NaN</td>\n",
              "      <td>NaN</td>\n",
              "      <td>NaN</td>\n",
              "    </tr>\n",
              "    <tr>\n",
              "      <th>1</th>\n",
              "      <td>1</td>\n",
              "      <td>Tata</td>\n",
              "      <td>Nano Genx</td>\n",
              "      <td>Xe</td>\n",
              "      <td>Rs. 2,36,447</td>\n",
              "      <td>624 cc</td>\n",
              "      <td>2.0</td>\n",
              "      <td>2.0</td>\n",
              "      <td>RWD (Rear Wheel Drive)</td>\n",
              "      <td>In-line</td>\n",
              "      <td>...</td>\n",
              "      <td>NaN</td>\n",
              "      <td>NaN</td>\n",
              "      <td>NaN</td>\n",
              "      <td>NaN</td>\n",
              "      <td>NaN</td>\n",
              "      <td>NaN</td>\n",
              "      <td>NaN</td>\n",
              "      <td>NaN</td>\n",
              "      <td>NaN</td>\n",
              "      <td>NaN</td>\n",
              "    </tr>\n",
              "    <tr>\n",
              "      <th>2</th>\n",
              "      <td>2</td>\n",
              "      <td>Tata</td>\n",
              "      <td>Nano Genx</td>\n",
              "      <td>Emax Xm</td>\n",
              "      <td>Rs. 2,96,661</td>\n",
              "      <td>624 cc</td>\n",
              "      <td>2.0</td>\n",
              "      <td>2.0</td>\n",
              "      <td>RWD (Rear Wheel Drive)</td>\n",
              "      <td>In-line</td>\n",
              "      <td>...</td>\n",
              "      <td>NaN</td>\n",
              "      <td>NaN</td>\n",
              "      <td>NaN</td>\n",
              "      <td>NaN</td>\n",
              "      <td>NaN</td>\n",
              "      <td>NaN</td>\n",
              "      <td>NaN</td>\n",
              "      <td>NaN</td>\n",
              "      <td>NaN</td>\n",
              "      <td>NaN</td>\n",
              "    </tr>\n",
              "    <tr>\n",
              "      <th>3</th>\n",
              "      <td>3</td>\n",
              "      <td>Tata</td>\n",
              "      <td>Nano Genx</td>\n",
              "      <td>Xta</td>\n",
              "      <td>Rs. 3,34,768</td>\n",
              "      <td>624 cc</td>\n",
              "      <td>2.0</td>\n",
              "      <td>2.0</td>\n",
              "      <td>RWD (Rear Wheel Drive)</td>\n",
              "      <td>In-line</td>\n",
              "      <td>...</td>\n",
              "      <td>NaN</td>\n",
              "      <td>NaN</td>\n",
              "      <td>NaN</td>\n",
              "      <td>NaN</td>\n",
              "      <td>NaN</td>\n",
              "      <td>NaN</td>\n",
              "      <td>NaN</td>\n",
              "      <td>NaN</td>\n",
              "      <td>NaN</td>\n",
              "      <td>NaN</td>\n",
              "    </tr>\n",
              "    <tr>\n",
              "      <th>4</th>\n",
              "      <td>4</td>\n",
              "      <td>Tata</td>\n",
              "      <td>Nano Genx</td>\n",
              "      <td>Xm</td>\n",
              "      <td>Rs. 2,72,223</td>\n",
              "      <td>624 cc</td>\n",
              "      <td>2.0</td>\n",
              "      <td>2.0</td>\n",
              "      <td>RWD (Rear Wheel Drive)</td>\n",
              "      <td>In-line</td>\n",
              "      <td>...</td>\n",
              "      <td>NaN</td>\n",
              "      <td>NaN</td>\n",
              "      <td>NaN</td>\n",
              "      <td>NaN</td>\n",
              "      <td>NaN</td>\n",
              "      <td>NaN</td>\n",
              "      <td>NaN</td>\n",
              "      <td>NaN</td>\n",
              "      <td>NaN</td>\n",
              "      <td>NaN</td>\n",
              "    </tr>\n",
              "  </tbody>\n",
              "</table>\n",
              "<p>5 rows × 141 columns</p>\n",
              "</div>\n",
              "    <div class=\"colab-df-buttons\">\n",
              "\n",
              "  <div class=\"colab-df-container\">\n",
              "    <button class=\"colab-df-convert\" onclick=\"convertToInteractive('df-b339ecb8-2bbd-47f7-84e8-47fe44752f33')\"\n",
              "            title=\"Convert this dataframe to an interactive table.\"\n",
              "            style=\"display:none;\">\n",
              "\n",
              "  <svg xmlns=\"http://www.w3.org/2000/svg\" height=\"24px\" viewBox=\"0 -960 960 960\">\n",
              "    <path d=\"M120-120v-720h720v720H120Zm60-500h600v-160H180v160Zm220 220h160v-160H400v160Zm0 220h160v-160H400v160ZM180-400h160v-160H180v160Zm440 0h160v-160H620v160ZM180-180h160v-160H180v160Zm440 0h160v-160H620v160Z\"/>\n",
              "  </svg>\n",
              "    </button>\n",
              "\n",
              "  <style>\n",
              "    .colab-df-container {\n",
              "      display:flex;\n",
              "      gap: 12px;\n",
              "    }\n",
              "\n",
              "    .colab-df-convert {\n",
              "      background-color: #E8F0FE;\n",
              "      border: none;\n",
              "      border-radius: 50%;\n",
              "      cursor: pointer;\n",
              "      display: none;\n",
              "      fill: #1967D2;\n",
              "      height: 32px;\n",
              "      padding: 0 0 0 0;\n",
              "      width: 32px;\n",
              "    }\n",
              "\n",
              "    .colab-df-convert:hover {\n",
              "      background-color: #E2EBFA;\n",
              "      box-shadow: 0px 1px 2px rgba(60, 64, 67, 0.3), 0px 1px 3px 1px rgba(60, 64, 67, 0.15);\n",
              "      fill: #174EA6;\n",
              "    }\n",
              "\n",
              "    .colab-df-buttons div {\n",
              "      margin-bottom: 4px;\n",
              "    }\n",
              "\n",
              "    [theme=dark] .colab-df-convert {\n",
              "      background-color: #3B4455;\n",
              "      fill: #D2E3FC;\n",
              "    }\n",
              "\n",
              "    [theme=dark] .colab-df-convert:hover {\n",
              "      background-color: #434B5C;\n",
              "      box-shadow: 0px 1px 3px 1px rgba(0, 0, 0, 0.15);\n",
              "      filter: drop-shadow(0px 1px 2px rgba(0, 0, 0, 0.3));\n",
              "      fill: #FFFFFF;\n",
              "    }\n",
              "  </style>\n",
              "\n",
              "    <script>\n",
              "      const buttonEl =\n",
              "        document.querySelector('#df-b339ecb8-2bbd-47f7-84e8-47fe44752f33 button.colab-df-convert');\n",
              "      buttonEl.style.display =\n",
              "        google.colab.kernel.accessAllowed ? 'block' : 'none';\n",
              "\n",
              "      async function convertToInteractive(key) {\n",
              "        const element = document.querySelector('#df-b339ecb8-2bbd-47f7-84e8-47fe44752f33');\n",
              "        const dataTable =\n",
              "          await google.colab.kernel.invokeFunction('convertToInteractive',\n",
              "                                                    [key], {});\n",
              "        if (!dataTable) return;\n",
              "\n",
              "        const docLinkHtml = 'Like what you see? Visit the ' +\n",
              "          '<a target=\"_blank\" href=https://colab.research.google.com/notebooks/data_table.ipynb>data table notebook</a>'\n",
              "          + ' to learn more about interactive tables.';\n",
              "        element.innerHTML = '';\n",
              "        dataTable['output_type'] = 'display_data';\n",
              "        await google.colab.output.renderOutput(dataTable, element);\n",
              "        const docLink = document.createElement('div');\n",
              "        docLink.innerHTML = docLinkHtml;\n",
              "        element.appendChild(docLink);\n",
              "      }\n",
              "    </script>\n",
              "  </div>\n",
              "\n",
              "\n",
              "<div id=\"df-826ee848-1e6e-451f-8011-882150ddf156\">\n",
              "  <button class=\"colab-df-quickchart\" onclick=\"quickchart('df-826ee848-1e6e-451f-8011-882150ddf156')\"\n",
              "            title=\"Suggest charts\"\n",
              "            style=\"display:none;\">\n",
              "\n",
              "<svg xmlns=\"http://www.w3.org/2000/svg\" height=\"24px\"viewBox=\"0 0 24 24\"\n",
              "     width=\"24px\">\n",
              "    <g>\n",
              "        <path d=\"M19 3H5c-1.1 0-2 .9-2 2v14c0 1.1.9 2 2 2h14c1.1 0 2-.9 2-2V5c0-1.1-.9-2-2-2zM9 17H7v-7h2v7zm4 0h-2V7h2v10zm4 0h-2v-4h2v4z\"/>\n",
              "    </g>\n",
              "</svg>\n",
              "  </button>\n",
              "\n",
              "<style>\n",
              "  .colab-df-quickchart {\n",
              "      --bg-color: #E8F0FE;\n",
              "      --fill-color: #1967D2;\n",
              "      --hover-bg-color: #E2EBFA;\n",
              "      --hover-fill-color: #174EA6;\n",
              "      --disabled-fill-color: #AAA;\n",
              "      --disabled-bg-color: #DDD;\n",
              "  }\n",
              "\n",
              "  [theme=dark] .colab-df-quickchart {\n",
              "      --bg-color: #3B4455;\n",
              "      --fill-color: #D2E3FC;\n",
              "      --hover-bg-color: #434B5C;\n",
              "      --hover-fill-color: #FFFFFF;\n",
              "      --disabled-bg-color: #3B4455;\n",
              "      --disabled-fill-color: #666;\n",
              "  }\n",
              "\n",
              "  .colab-df-quickchart {\n",
              "    background-color: var(--bg-color);\n",
              "    border: none;\n",
              "    border-radius: 50%;\n",
              "    cursor: pointer;\n",
              "    display: none;\n",
              "    fill: var(--fill-color);\n",
              "    height: 32px;\n",
              "    padding: 0;\n",
              "    width: 32px;\n",
              "  }\n",
              "\n",
              "  .colab-df-quickchart:hover {\n",
              "    background-color: var(--hover-bg-color);\n",
              "    box-shadow: 0 1px 2px rgba(60, 64, 67, 0.3), 0 1px 3px 1px rgba(60, 64, 67, 0.15);\n",
              "    fill: var(--button-hover-fill-color);\n",
              "  }\n",
              "\n",
              "  .colab-df-quickchart-complete:disabled,\n",
              "  .colab-df-quickchart-complete:disabled:hover {\n",
              "    background-color: var(--disabled-bg-color);\n",
              "    fill: var(--disabled-fill-color);\n",
              "    box-shadow: none;\n",
              "  }\n",
              "\n",
              "  .colab-df-spinner {\n",
              "    border: 2px solid var(--fill-color);\n",
              "    border-color: transparent;\n",
              "    border-bottom-color: var(--fill-color);\n",
              "    animation:\n",
              "      spin 1s steps(1) infinite;\n",
              "  }\n",
              "\n",
              "  @keyframes spin {\n",
              "    0% {\n",
              "      border-color: transparent;\n",
              "      border-bottom-color: var(--fill-color);\n",
              "      border-left-color: var(--fill-color);\n",
              "    }\n",
              "    20% {\n",
              "      border-color: transparent;\n",
              "      border-left-color: var(--fill-color);\n",
              "      border-top-color: var(--fill-color);\n",
              "    }\n",
              "    30% {\n",
              "      border-color: transparent;\n",
              "      border-left-color: var(--fill-color);\n",
              "      border-top-color: var(--fill-color);\n",
              "      border-right-color: var(--fill-color);\n",
              "    }\n",
              "    40% {\n",
              "      border-color: transparent;\n",
              "      border-right-color: var(--fill-color);\n",
              "      border-top-color: var(--fill-color);\n",
              "    }\n",
              "    60% {\n",
              "      border-color: transparent;\n",
              "      border-right-color: var(--fill-color);\n",
              "    }\n",
              "    80% {\n",
              "      border-color: transparent;\n",
              "      border-right-color: var(--fill-color);\n",
              "      border-bottom-color: var(--fill-color);\n",
              "    }\n",
              "    90% {\n",
              "      border-color: transparent;\n",
              "      border-bottom-color: var(--fill-color);\n",
              "    }\n",
              "  }\n",
              "</style>\n",
              "\n",
              "  <script>\n",
              "    async function quickchart(key) {\n",
              "      const quickchartButtonEl =\n",
              "        document.querySelector('#' + key + ' button');\n",
              "      quickchartButtonEl.disabled = true;  // To prevent multiple clicks.\n",
              "      quickchartButtonEl.classList.add('colab-df-spinner');\n",
              "      try {\n",
              "        const charts = await google.colab.kernel.invokeFunction(\n",
              "            'suggestCharts', [key], {});\n",
              "      } catch (error) {\n",
              "        console.error('Error during call to suggestCharts:', error);\n",
              "      }\n",
              "      quickchartButtonEl.classList.remove('colab-df-spinner');\n",
              "      quickchartButtonEl.classList.add('colab-df-quickchart-complete');\n",
              "    }\n",
              "    (() => {\n",
              "      let quickchartButtonEl =\n",
              "        document.querySelector('#df-826ee848-1e6e-451f-8011-882150ddf156 button');\n",
              "      quickchartButtonEl.style.display =\n",
              "        google.colab.kernel.accessAllowed ? 'block' : 'none';\n",
              "    })();\n",
              "  </script>\n",
              "</div>\n",
              "\n",
              "    </div>\n",
              "  </div>\n"
            ],
            "text/plain": [
              "   Unnamed: 0  Make      Model  Variant Ex-Showroom_Price Displacement  \\\n",
              "0           0  Tata  Nano Genx       Xt      Rs. 2,92,667       624 cc   \n",
              "1           1  Tata  Nano Genx       Xe      Rs. 2,36,447       624 cc   \n",
              "2           2  Tata  Nano Genx  Emax Xm      Rs. 2,96,661       624 cc   \n",
              "3           3  Tata  Nano Genx      Xta      Rs. 3,34,768       624 cc   \n",
              "4           4  Tata  Nano Genx       Xm      Rs. 2,72,223       624 cc   \n",
              "\n",
              "   Cylinders  Valves_Per_Cylinder              Drivetrain  \\\n",
              "0        2.0                  2.0  RWD (Rear Wheel Drive)   \n",
              "1        2.0                  2.0  RWD (Rear Wheel Drive)   \n",
              "2        2.0                  2.0  RWD (Rear Wheel Drive)   \n",
              "3        2.0                  2.0  RWD (Rear Wheel Drive)   \n",
              "4        2.0                  2.0  RWD (Rear Wheel Drive)   \n",
              "\n",
              "  Cylinder_Configuration  ... Leather_Wrapped_Steering Automatic_Headlamps  \\\n",
              "0                In-line  ...                      NaN                 NaN   \n",
              "1                In-line  ...                      NaN                 NaN   \n",
              "2                In-line  ...                      NaN                 NaN   \n",
              "3                In-line  ...                      NaN                 NaN   \n",
              "4                In-line  ...                      NaN                 NaN   \n",
              "\n",
              "  Engine_Type ASR_/_Traction_Control Cruise_Control USB_Ports  \\\n",
              "0         NaN                    NaN            NaN       NaN   \n",
              "1         NaN                    NaN            NaN       NaN   \n",
              "2         NaN                    NaN            NaN       NaN   \n",
              "3         NaN                    NaN            NaN       NaN   \n",
              "4         NaN                    NaN            NaN       NaN   \n",
              "\n",
              "  Heads-Up_Display Welcome_Lights Battery  Electric_Range  \n",
              "0              NaN            NaN     NaN             NaN  \n",
              "1              NaN            NaN     NaN             NaN  \n",
              "2              NaN            NaN     NaN             NaN  \n",
              "3              NaN            NaN     NaN             NaN  \n",
              "4              NaN            NaN     NaN             NaN  \n",
              "\n",
              "[5 rows x 141 columns]"
            ]
          },
          "execution_count": 66,
          "metadata": {},
          "output_type": "execute_result"
        }
      ],
      "source": [
        "cars.head()"
      ]
    },
    {
      "cell_type": "code",
      "execution_count": null,
      "metadata": {
        "colab": {
          "base_uri": "https://localhost:8080/"
        },
        "id": "hvOIKySXKiEs",
        "outputId": "342329c8-1782-489d-c595-5b6100663e26"
      },
      "outputs": [
        {
          "name": "stdout",
          "output_type": "stream",
          "text": [
            "<class 'pandas.core.frame.DataFrame'>\n",
            "RangeIndex: 1276 entries, 0 to 1275\n",
            "Columns: 141 entries, Unnamed: 0 to Electric_Range\n",
            "dtypes: float64(6), int64(1), object(134)\n",
            "memory usage: 1.4+ MB\n"
          ]
        }
      ],
      "source": [
        "cars.info()"
      ]
    },
    {
      "cell_type": "code",
      "execution_count": null,
      "metadata": {
        "id": "O0kNdJvjKoFr"
      },
      "outputs": [],
      "source": [
        "cars.rename(columns=str.lower,inplace=True)"
      ]
    },
    {
      "cell_type": "code",
      "execution_count": null,
      "metadata": {
        "colab": {
          "base_uri": "https://localhost:8080/"
        },
        "id": "IyQMoaFMLDrE",
        "outputId": "0d5c250a-1630-4e95-b60c-aada39a6e2b6"
      },
      "outputs": [
        {
          "data": {
            "text/plain": [
              "Index(['unnamed: 0', 'make', 'model', 'variant', 'ex-showroom_price',\n",
              "       'displacement', 'cylinders', 'valves_per_cylinder', 'drivetrain',\n",
              "       'cylinder_configuration',\n",
              "       ...\n",
              "       'leather_wrapped_steering', 'automatic_headlamps', 'engine_type',\n",
              "       'asr_/_traction_control', 'cruise_control', 'usb_ports',\n",
              "       'heads-up_display', 'welcome_lights', 'battery', 'electric_range'],\n",
              "      dtype='object', length=141)"
            ]
          },
          "execution_count": 70,
          "metadata": {},
          "output_type": "execute_result"
        }
      ],
      "source": [
        "cars.columns"
      ]
    },
    {
      "cell_type": "code",
      "execution_count": null,
      "metadata": {
        "id": "3xSK3kxEL4Al"
      },
      "outputs": [],
      "source": [
        "cars = cars[['make','model','ex-showroom_price','body_type','displacement', 'cylinders', 'fuel_system', 'fuel_tank_capacity', 'fuel_type',  'city_mileage',  'seating_capacity','basic_warranty', 'child_safety_locks', 'number_of_airbags', 'parking_assistance',  'navigation_system']]"
      ]
    },
    {
      "cell_type": "code",
      "execution_count": null,
      "metadata": {
        "colab": {
          "base_uri": "https://localhost:8080/"
        },
        "id": "BWmjR9MUMiYM",
        "outputId": "b182aa4b-063e-48d9-e496-67999bd84432"
      },
      "outputs": [
        {
          "data": {
            "text/plain": [
              "(1276, 16)"
            ]
          },
          "execution_count": 72,
          "metadata": {},
          "output_type": "execute_result"
        }
      ],
      "source": [
        "cars.shape"
      ]
    },
    {
      "cell_type": "code",
      "execution_count": null,
      "metadata": {
        "colab": {
          "base_uri": "https://localhost:8080/",
          "height": 504
        },
        "id": "zKg4YNG0NVaV",
        "outputId": "48e9f019-5d17-4545-fd9a-bb7368c1edf4"
      },
      "outputs": [
        {
          "data": {
            "text/html": [
              "\n",
              "  <div id=\"df-446fa9cc-8123-4840-84cc-ed29ee54ecf2\" class=\"colab-df-container\">\n",
              "    <div>\n",
              "<style scoped>\n",
              "    .dataframe tbody tr th:only-of-type {\n",
              "        vertical-align: middle;\n",
              "    }\n",
              "\n",
              "    .dataframe tbody tr th {\n",
              "        vertical-align: top;\n",
              "    }\n",
              "\n",
              "    .dataframe thead th {\n",
              "        text-align: right;\n",
              "    }\n",
              "</style>\n",
              "<table border=\"1\" class=\"dataframe\">\n",
              "  <thead>\n",
              "    <tr style=\"text-align: right;\">\n",
              "      <th></th>\n",
              "      <th>make</th>\n",
              "      <th>model</th>\n",
              "      <th>ex-showroom_price</th>\n",
              "      <th>body_type</th>\n",
              "      <th>displacement</th>\n",
              "      <th>cylinders</th>\n",
              "      <th>fuel_system</th>\n",
              "      <th>fuel_tank_capacity</th>\n",
              "      <th>fuel_type</th>\n",
              "      <th>city_mileage</th>\n",
              "      <th>seating_capacity</th>\n",
              "      <th>basic_warranty</th>\n",
              "      <th>child_safety_locks</th>\n",
              "      <th>number_of_airbags</th>\n",
              "      <th>parking_assistance</th>\n",
              "      <th>navigation_system</th>\n",
              "    </tr>\n",
              "  </thead>\n",
              "  <tbody>\n",
              "    <tr>\n",
              "      <th>0</th>\n",
              "      <td>Tata</td>\n",
              "      <td>Nano Genx</td>\n",
              "      <td>Rs. 2,92,667</td>\n",
              "      <td>Hatchback</td>\n",
              "      <td>624 cc</td>\n",
              "      <td>2.0</td>\n",
              "      <td>Injection</td>\n",
              "      <td>24 litres</td>\n",
              "      <td>Petrol</td>\n",
              "      <td>?23.6 km/litre</td>\n",
              "      <td>4.0</td>\n",
              "      <td>2 years /75000 Kms (years/distance whichever c...</td>\n",
              "      <td>Yes</td>\n",
              "      <td>NaN</td>\n",
              "      <td>NaN</td>\n",
              "      <td>NaN</td>\n",
              "    </tr>\n",
              "    <tr>\n",
              "      <th>1</th>\n",
              "      <td>Tata</td>\n",
              "      <td>Nano Genx</td>\n",
              "      <td>Rs. 2,36,447</td>\n",
              "      <td>Hatchback</td>\n",
              "      <td>624 cc</td>\n",
              "      <td>2.0</td>\n",
              "      <td>Injection</td>\n",
              "      <td>24 litres</td>\n",
              "      <td>Petrol</td>\n",
              "      <td>?23.6 km/litre</td>\n",
              "      <td>4.0</td>\n",
              "      <td>2 years /75000 Kms (years/distance whichever c...</td>\n",
              "      <td>Yes</td>\n",
              "      <td>NaN</td>\n",
              "      <td>NaN</td>\n",
              "      <td>NaN</td>\n",
              "    </tr>\n",
              "    <tr>\n",
              "      <th>2</th>\n",
              "      <td>Tata</td>\n",
              "      <td>Nano Genx</td>\n",
              "      <td>Rs. 2,96,661</td>\n",
              "      <td>Hatchback</td>\n",
              "      <td>624 cc</td>\n",
              "      <td>2.0</td>\n",
              "      <td>Injection</td>\n",
              "      <td>15 litres</td>\n",
              "      <td>CNG</td>\n",
              "      <td>NaN</td>\n",
              "      <td>4.0</td>\n",
              "      <td>2 years /75000 Kms (years/distance whichever c...</td>\n",
              "      <td>Yes</td>\n",
              "      <td>NaN</td>\n",
              "      <td>NaN</td>\n",
              "      <td>NaN</td>\n",
              "    </tr>\n",
              "    <tr>\n",
              "      <th>3</th>\n",
              "      <td>Tata</td>\n",
              "      <td>Nano Genx</td>\n",
              "      <td>Rs. 3,34,768</td>\n",
              "      <td>Hatchback</td>\n",
              "      <td>624 cc</td>\n",
              "      <td>2.0</td>\n",
              "      <td>Injection</td>\n",
              "      <td>24 litres</td>\n",
              "      <td>Petrol</td>\n",
              "      <td>?23.6 km/litre</td>\n",
              "      <td>4.0</td>\n",
              "      <td>2 years /75000 Kms (years/distance whichever c...</td>\n",
              "      <td>Yes</td>\n",
              "      <td>NaN</td>\n",
              "      <td>NaN</td>\n",
              "      <td>NaN</td>\n",
              "    </tr>\n",
              "    <tr>\n",
              "      <th>4</th>\n",
              "      <td>Tata</td>\n",
              "      <td>Nano Genx</td>\n",
              "      <td>Rs. 2,72,223</td>\n",
              "      <td>Hatchback</td>\n",
              "      <td>624 cc</td>\n",
              "      <td>2.0</td>\n",
              "      <td>Injection</td>\n",
              "      <td>24 litres</td>\n",
              "      <td>Petrol</td>\n",
              "      <td>?23.6 km/litre</td>\n",
              "      <td>4.0</td>\n",
              "      <td>2 years /75000 Kms (years/distance whichever c...</td>\n",
              "      <td>Yes</td>\n",
              "      <td>NaN</td>\n",
              "      <td>NaN</td>\n",
              "      <td>NaN</td>\n",
              "    </tr>\n",
              "  </tbody>\n",
              "</table>\n",
              "</div>\n",
              "    <div class=\"colab-df-buttons\">\n",
              "\n",
              "  <div class=\"colab-df-container\">\n",
              "    <button class=\"colab-df-convert\" onclick=\"convertToInteractive('df-446fa9cc-8123-4840-84cc-ed29ee54ecf2')\"\n",
              "            title=\"Convert this dataframe to an interactive table.\"\n",
              "            style=\"display:none;\">\n",
              "\n",
              "  <svg xmlns=\"http://www.w3.org/2000/svg\" height=\"24px\" viewBox=\"0 -960 960 960\">\n",
              "    <path d=\"M120-120v-720h720v720H120Zm60-500h600v-160H180v160Zm220 220h160v-160H400v160Zm0 220h160v-160H400v160ZM180-400h160v-160H180v160Zm440 0h160v-160H620v160ZM180-180h160v-160H180v160Zm440 0h160v-160H620v160Z\"/>\n",
              "  </svg>\n",
              "    </button>\n",
              "\n",
              "  <style>\n",
              "    .colab-df-container {\n",
              "      display:flex;\n",
              "      gap: 12px;\n",
              "    }\n",
              "\n",
              "    .colab-df-convert {\n",
              "      background-color: #E8F0FE;\n",
              "      border: none;\n",
              "      border-radius: 50%;\n",
              "      cursor: pointer;\n",
              "      display: none;\n",
              "      fill: #1967D2;\n",
              "      height: 32px;\n",
              "      padding: 0 0 0 0;\n",
              "      width: 32px;\n",
              "    }\n",
              "\n",
              "    .colab-df-convert:hover {\n",
              "      background-color: #E2EBFA;\n",
              "      box-shadow: 0px 1px 2px rgba(60, 64, 67, 0.3), 0px 1px 3px 1px rgba(60, 64, 67, 0.15);\n",
              "      fill: #174EA6;\n",
              "    }\n",
              "\n",
              "    .colab-df-buttons div {\n",
              "      margin-bottom: 4px;\n",
              "    }\n",
              "\n",
              "    [theme=dark] .colab-df-convert {\n",
              "      background-color: #3B4455;\n",
              "      fill: #D2E3FC;\n",
              "    }\n",
              "\n",
              "    [theme=dark] .colab-df-convert:hover {\n",
              "      background-color: #434B5C;\n",
              "      box-shadow: 0px 1px 3px 1px rgba(0, 0, 0, 0.15);\n",
              "      filter: drop-shadow(0px 1px 2px rgba(0, 0, 0, 0.3));\n",
              "      fill: #FFFFFF;\n",
              "    }\n",
              "  </style>\n",
              "\n",
              "    <script>\n",
              "      const buttonEl =\n",
              "        document.querySelector('#df-446fa9cc-8123-4840-84cc-ed29ee54ecf2 button.colab-df-convert');\n",
              "      buttonEl.style.display =\n",
              "        google.colab.kernel.accessAllowed ? 'block' : 'none';\n",
              "\n",
              "      async function convertToInteractive(key) {\n",
              "        const element = document.querySelector('#df-446fa9cc-8123-4840-84cc-ed29ee54ecf2');\n",
              "        const dataTable =\n",
              "          await google.colab.kernel.invokeFunction('convertToInteractive',\n",
              "                                                    [key], {});\n",
              "        if (!dataTable) return;\n",
              "\n",
              "        const docLinkHtml = 'Like what you see? Visit the ' +\n",
              "          '<a target=\"_blank\" href=https://colab.research.google.com/notebooks/data_table.ipynb>data table notebook</a>'\n",
              "          + ' to learn more about interactive tables.';\n",
              "        element.innerHTML = '';\n",
              "        dataTable['output_type'] = 'display_data';\n",
              "        await google.colab.output.renderOutput(dataTable, element);\n",
              "        const docLink = document.createElement('div');\n",
              "        docLink.innerHTML = docLinkHtml;\n",
              "        element.appendChild(docLink);\n",
              "      }\n",
              "    </script>\n",
              "  </div>\n",
              "\n",
              "\n",
              "<div id=\"df-7dbb55c2-65f7-46a4-b839-ce20c006cb03\">\n",
              "  <button class=\"colab-df-quickchart\" onclick=\"quickchart('df-7dbb55c2-65f7-46a4-b839-ce20c006cb03')\"\n",
              "            title=\"Suggest charts\"\n",
              "            style=\"display:none;\">\n",
              "\n",
              "<svg xmlns=\"http://www.w3.org/2000/svg\" height=\"24px\"viewBox=\"0 0 24 24\"\n",
              "     width=\"24px\">\n",
              "    <g>\n",
              "        <path d=\"M19 3H5c-1.1 0-2 .9-2 2v14c0 1.1.9 2 2 2h14c1.1 0 2-.9 2-2V5c0-1.1-.9-2-2-2zM9 17H7v-7h2v7zm4 0h-2V7h2v10zm4 0h-2v-4h2v4z\"/>\n",
              "    </g>\n",
              "</svg>\n",
              "  </button>\n",
              "\n",
              "<style>\n",
              "  .colab-df-quickchart {\n",
              "      --bg-color: #E8F0FE;\n",
              "      --fill-color: #1967D2;\n",
              "      --hover-bg-color: #E2EBFA;\n",
              "      --hover-fill-color: #174EA6;\n",
              "      --disabled-fill-color: #AAA;\n",
              "      --disabled-bg-color: #DDD;\n",
              "  }\n",
              "\n",
              "  [theme=dark] .colab-df-quickchart {\n",
              "      --bg-color: #3B4455;\n",
              "      --fill-color: #D2E3FC;\n",
              "      --hover-bg-color: #434B5C;\n",
              "      --hover-fill-color: #FFFFFF;\n",
              "      --disabled-bg-color: #3B4455;\n",
              "      --disabled-fill-color: #666;\n",
              "  }\n",
              "\n",
              "  .colab-df-quickchart {\n",
              "    background-color: var(--bg-color);\n",
              "    border: none;\n",
              "    border-radius: 50%;\n",
              "    cursor: pointer;\n",
              "    display: none;\n",
              "    fill: var(--fill-color);\n",
              "    height: 32px;\n",
              "    padding: 0;\n",
              "    width: 32px;\n",
              "  }\n",
              "\n",
              "  .colab-df-quickchart:hover {\n",
              "    background-color: var(--hover-bg-color);\n",
              "    box-shadow: 0 1px 2px rgba(60, 64, 67, 0.3), 0 1px 3px 1px rgba(60, 64, 67, 0.15);\n",
              "    fill: var(--button-hover-fill-color);\n",
              "  }\n",
              "\n",
              "  .colab-df-quickchart-complete:disabled,\n",
              "  .colab-df-quickchart-complete:disabled:hover {\n",
              "    background-color: var(--disabled-bg-color);\n",
              "    fill: var(--disabled-fill-color);\n",
              "    box-shadow: none;\n",
              "  }\n",
              "\n",
              "  .colab-df-spinner {\n",
              "    border: 2px solid var(--fill-color);\n",
              "    border-color: transparent;\n",
              "    border-bottom-color: var(--fill-color);\n",
              "    animation:\n",
              "      spin 1s steps(1) infinite;\n",
              "  }\n",
              "\n",
              "  @keyframes spin {\n",
              "    0% {\n",
              "      border-color: transparent;\n",
              "      border-bottom-color: var(--fill-color);\n",
              "      border-left-color: var(--fill-color);\n",
              "    }\n",
              "    20% {\n",
              "      border-color: transparent;\n",
              "      border-left-color: var(--fill-color);\n",
              "      border-top-color: var(--fill-color);\n",
              "    }\n",
              "    30% {\n",
              "      border-color: transparent;\n",
              "      border-left-color: var(--fill-color);\n",
              "      border-top-color: var(--fill-color);\n",
              "      border-right-color: var(--fill-color);\n",
              "    }\n",
              "    40% {\n",
              "      border-color: transparent;\n",
              "      border-right-color: var(--fill-color);\n",
              "      border-top-color: var(--fill-color);\n",
              "    }\n",
              "    60% {\n",
              "      border-color: transparent;\n",
              "      border-right-color: var(--fill-color);\n",
              "    }\n",
              "    80% {\n",
              "      border-color: transparent;\n",
              "      border-right-color: var(--fill-color);\n",
              "      border-bottom-color: var(--fill-color);\n",
              "    }\n",
              "    90% {\n",
              "      border-color: transparent;\n",
              "      border-bottom-color: var(--fill-color);\n",
              "    }\n",
              "  }\n",
              "</style>\n",
              "\n",
              "  <script>\n",
              "    async function quickchart(key) {\n",
              "      const quickchartButtonEl =\n",
              "        document.querySelector('#' + key + ' button');\n",
              "      quickchartButtonEl.disabled = true;  // To prevent multiple clicks.\n",
              "      quickchartButtonEl.classList.add('colab-df-spinner');\n",
              "      try {\n",
              "        const charts = await google.colab.kernel.invokeFunction(\n",
              "            'suggestCharts', [key], {});\n",
              "      } catch (error) {\n",
              "        console.error('Error during call to suggestCharts:', error);\n",
              "      }\n",
              "      quickchartButtonEl.classList.remove('colab-df-spinner');\n",
              "      quickchartButtonEl.classList.add('colab-df-quickchart-complete');\n",
              "    }\n",
              "    (() => {\n",
              "      let quickchartButtonEl =\n",
              "        document.querySelector('#df-7dbb55c2-65f7-46a4-b839-ce20c006cb03 button');\n",
              "      quickchartButtonEl.style.display =\n",
              "        google.colab.kernel.accessAllowed ? 'block' : 'none';\n",
              "    })();\n",
              "  </script>\n",
              "</div>\n",
              "\n",
              "    </div>\n",
              "  </div>\n"
            ],
            "text/plain": [
              "   make      model ex-showroom_price  body_type displacement  cylinders  \\\n",
              "0  Tata  Nano Genx      Rs. 2,92,667  Hatchback       624 cc        2.0   \n",
              "1  Tata  Nano Genx      Rs. 2,36,447  Hatchback       624 cc        2.0   \n",
              "2  Tata  Nano Genx      Rs. 2,96,661  Hatchback       624 cc        2.0   \n",
              "3  Tata  Nano Genx      Rs. 3,34,768  Hatchback       624 cc        2.0   \n",
              "4  Tata  Nano Genx      Rs. 2,72,223  Hatchback       624 cc        2.0   \n",
              "\n",
              "  fuel_system fuel_tank_capacity fuel_type    city_mileage  seating_capacity  \\\n",
              "0   Injection          24 litres    Petrol  ?23.6 km/litre               4.0   \n",
              "1   Injection          24 litres    Petrol  ?23.6 km/litre               4.0   \n",
              "2   Injection          15 litres       CNG             NaN               4.0   \n",
              "3   Injection          24 litres    Petrol  ?23.6 km/litre               4.0   \n",
              "4   Injection          24 litres    Petrol  ?23.6 km/litre               4.0   \n",
              "\n",
              "                                      basic_warranty child_safety_locks  \\\n",
              "0  2 years /75000 Kms (years/distance whichever c...                Yes   \n",
              "1  2 years /75000 Kms (years/distance whichever c...                Yes   \n",
              "2  2 years /75000 Kms (years/distance whichever c...                Yes   \n",
              "3  2 years /75000 Kms (years/distance whichever c...                Yes   \n",
              "4  2 years /75000 Kms (years/distance whichever c...                Yes   \n",
              "\n",
              "   number_of_airbags parking_assistance navigation_system  \n",
              "0                NaN                NaN               NaN  \n",
              "1                NaN                NaN               NaN  \n",
              "2                NaN                NaN               NaN  \n",
              "3                NaN                NaN               NaN  \n",
              "4                NaN                NaN               NaN  "
            ]
          },
          "execution_count": 73,
          "metadata": {},
          "output_type": "execute_result"
        }
      ],
      "source": [
        "cars.head()"
      ]
    },
    {
      "cell_type": "code",
      "execution_count": null,
      "metadata": {
        "colab": {
          "base_uri": "https://localhost:8080/"
        },
        "id": "4U_-RryZNYCh",
        "outputId": "e7cfaddb-7e48-4090-929d-577ab62da666"
      },
      "outputs": [
        {
          "data": {
            "text/plain": [
              "make                   75\n",
              "model                   0\n",
              "ex-showroom_price       0\n",
              "body_type               6\n",
              "displacement           12\n",
              "cylinders              66\n",
              "fuel_system             8\n",
              "fuel_tank_capacity     69\n",
              "fuel_type               0\n",
              "city_mileage          555\n",
              "seating_capacity        6\n",
              "basic_warranty        440\n",
              "child_safety_locks     75\n",
              "number_of_airbags     135\n",
              "parking_assistance    290\n",
              "navigation_system     593\n",
              "dtype: int64"
            ]
          },
          "execution_count": 74,
          "metadata": {},
          "output_type": "execute_result"
        }
      ],
      "source": [
        "cars.isnull().sum()"
      ]
    },
    {
      "cell_type": "code",
      "execution_count": null,
      "metadata": {
        "id": "iK0r9R-GNfyy"
      },
      "outputs": [],
      "source": [
        "cars=cars.rename(columns={'make':'company','ex-showroom_price':'price'})"
      ]
    },
    {
      "cell_type": "code",
      "execution_count": null,
      "metadata": {
        "colab": {
          "base_uri": "https://localhost:8080/"
        },
        "id": "twT3YR9sOSpI",
        "outputId": "96af9a25-bfd3-4a52-89df-37d9ed61adf7"
      },
      "outputs": [
        {
          "data": {
            "text/plain": [
              "company                object\n",
              "model                  object\n",
              "price                  object\n",
              "body_type              object\n",
              "displacement           object\n",
              "cylinders             float64\n",
              "fuel_system            object\n",
              "fuel_tank_capacity     object\n",
              "fuel_type              object\n",
              "city_mileage           object\n",
              "seating_capacity      float64\n",
              "basic_warranty         object\n",
              "child_safety_locks     object\n",
              "number_of_airbags     float64\n",
              "parking_assistance     object\n",
              "navigation_system      object\n",
              "dtype: object"
            ]
          },
          "execution_count": 76,
          "metadata": {},
          "output_type": "execute_result"
        }
      ],
      "source": [
        "cars.dtypes"
      ]
    },
    {
      "cell_type": "markdown",
      "metadata": {
        "id": "sMLYzt0NXSvk"
      },
      "source": [
        "**Company Attribute**"
      ]
    },
    {
      "cell_type": "code",
      "execution_count": null,
      "metadata": {
        "colab": {
          "base_uri": "https://localhost:8080/"
        },
        "id": "qpSAOAkdNwgk",
        "outputId": "93a367d8-33bf-48e3-9a75-0b6e1e516a34"
      },
      "outputs": [
        {
          "data": {
            "text/plain": [
              "array(['Tata', 'Datsun', 'Renault', 'Maruti Suzuki', 'Hyundai', 'Premier',\n",
              "       'Toyota', 'Nissan', 'Volkswagen', 'Ford', 'Mahindra', 'Fiat',\n",
              "       'Honda', 'Jeep', 'Isuzu', 'Skoda', 'Audi', nan, 'Dc', 'Mini',\n",
              "       'Volvo', 'Jaguar', 'Bmw', 'Land Rover', 'Porsche', 'Lexus',\n",
              "       'Maserati', 'Lamborghini', 'Bentley', 'Ferrari', 'Aston Martin',\n",
              "       'Bugatti', 'Bajaj', 'Icml', 'Force', 'Mg', 'Kia',\n",
              "       'Land Rover Rover', 'Mitsubishi', 'Maruti Suzuki R'], dtype=object)"
            ]
          },
          "execution_count": 77,
          "metadata": {},
          "output_type": "execute_result"
        }
      ],
      "source": [
        "cars['company'].unique()"
      ]
    },
    {
      "cell_type": "code",
      "execution_count": null,
      "metadata": {
        "colab": {
          "base_uri": "https://localhost:8080/"
        },
        "id": "ydRs_EQWPp1G",
        "outputId": "3af51e80-90cd-4a31-8466-e507ecf6d2ad"
      },
      "outputs": [
        {
          "data": {
            "text/plain": [
              "False    1201\n",
              "True       75\n",
              "Name: company, dtype: int64"
            ]
          },
          "execution_count": 79,
          "metadata": {},
          "output_type": "execute_result"
        }
      ],
      "source": [
        "cars['company'].isnull().value_counts()"
      ]
    },
    {
      "cell_type": "code",
      "execution_count": null,
      "metadata": {
        "id": "T1RhMOXhP2lM"
      },
      "outputs": [],
      "source": [
        "cars=cars.dropna(subset=['company'])"
      ]
    },
    {
      "cell_type": "code",
      "execution_count": null,
      "metadata": {
        "colab": {
          "base_uri": "https://localhost:8080/"
        },
        "id": "TZlONjqWQEGz",
        "outputId": "18332059-fe72-47ac-815e-926c51850d5d"
      },
      "outputs": [
        {
          "data": {
            "text/plain": [
              "False    1201\n",
              "Name: company, dtype: int64"
            ]
          },
          "execution_count": 81,
          "metadata": {},
          "output_type": "execute_result"
        }
      ],
      "source": [
        "cars['company'].isnull().value_counts()"
      ]
    },
    {
      "cell_type": "markdown",
      "metadata": {
        "id": "y2VHbsuOXbxM"
      },
      "source": [
        "**Model Attribute**"
      ]
    },
    {
      "cell_type": "code",
      "execution_count": null,
      "metadata": {
        "colab": {
          "base_uri": "https://localhost:8080/"
        },
        "id": "LL4tSXSIP45b",
        "outputId": "b18ddf0c-ec27-445e-e488-b28e8bbf2f8c"
      },
      "outputs": [
        {
          "data": {
            "text/plain": [
              "0"
            ]
          },
          "execution_count": 82,
          "metadata": {},
          "output_type": "execute_result"
        }
      ],
      "source": [
        "cars['model'].isnull().sum()"
      ]
    },
    {
      "cell_type": "markdown",
      "metadata": {
        "id": "4ZVyEK6eXgOZ"
      },
      "source": [
        "**Price Attribute**"
      ]
    },
    {
      "cell_type": "code",
      "execution_count": null,
      "metadata": {
        "colab": {
          "base_uri": "https://localhost:8080/"
        },
        "id": "voo_k--hSyPR",
        "outputId": "4860d00a-02a7-4c9a-b7a6-13a76cc6e353"
      },
      "outputs": [
        {
          "data": {
            "text/plain": [
              "0"
            ]
          },
          "execution_count": 83,
          "metadata": {},
          "output_type": "execute_result"
        }
      ],
      "source": [
        "cars['price'].isnull().sum()"
      ]
    },
    {
      "cell_type": "code",
      "execution_count": null,
      "metadata": {
        "colab": {
          "base_uri": "https://localhost:8080/"
        },
        "id": "bGu1RYmtUWDB",
        "outputId": "985d59f7-e63a-4944-e8b2-0688ae00f3e3"
      },
      "outputs": [
        {
          "data": {
            "text/plain": [
              "dtype('O')"
            ]
          },
          "execution_count": 84,
          "metadata": {},
          "output_type": "execute_result"
        }
      ],
      "source": [
        "cars['price'].dtypes"
      ]
    },
    {
      "cell_type": "code",
      "execution_count": null,
      "metadata": {
        "colab": {
          "base_uri": "https://localhost:8080/"
        },
        "id": "T3-AWTixUW2_",
        "outputId": "fb167428-b0bc-4393-c7f3-568037b92ce5"
      },
      "outputs": [
        {
          "name": "stderr",
          "output_type": "stream",
          "text": [
            "<ipython-input-85-6b2a8300c3d2>:1: FutureWarning: The default value of regex will change from True to False in a future version.\n",
            "  cars['price'] = cars['price'].str.replace('Rs.', '')\n"
          ]
        },
        {
          "data": {
            "text/plain": [
              "0         2,92,667\n",
              "1         2,36,447\n",
              "2         2,96,661\n",
              "3         3,34,768\n",
              "4         2,72,223\n",
              "           ...    \n",
              "1271     13,02,000\n",
              "1272     14,21,000\n",
              "1273     14,31,000\n",
              "1274     12,01,000\n",
              "1275     68,62,560\n",
              "Name: price, Length: 1201, dtype: object"
            ]
          },
          "execution_count": 85,
          "metadata": {},
          "output_type": "execute_result"
        }
      ],
      "source": [
        "cars['price'] = cars['price'].str.replace('Rs.', '')\n",
        "cars['price']"
      ]
    },
    {
      "cell_type": "code",
      "execution_count": null,
      "metadata": {
        "colab": {
          "base_uri": "https://localhost:8080/"
        },
        "id": "nYZIPcTAUZlW",
        "outputId": "2b97e8d4-c52c-451f-8a60-008259a85de9"
      },
      "outputs": [
        {
          "data": {
            "text/plain": [
              "0        292667\n",
              "1        236447\n",
              "2        296661\n",
              "3        334768\n",
              "4        272223\n",
              "         ...   \n",
              "1271    1302000\n",
              "1272    1421000\n",
              "1273    1431000\n",
              "1274    1201000\n",
              "1275    6862560\n",
              "Name: price, Length: 1201, dtype: int64"
            ]
          },
          "execution_count": 87,
          "metadata": {},
          "output_type": "execute_result"
        }
      ],
      "source": [
        "cars['price'] = cars['price'].str.replace(',', '')\n",
        "cars['price'] = cars['price'].astype(int)\n",
        "cars['price']"
      ]
    },
    {
      "cell_type": "markdown",
      "metadata": {
        "id": "VuZk_nqoXkeT"
      },
      "source": [
        "**Displacement Attribute**"
      ]
    },
    {
      "cell_type": "code",
      "execution_count": null,
      "metadata": {
        "colab": {
          "base_uri": "https://localhost:8080/"
        },
        "id": "TMRrwiUUUim3",
        "outputId": "2806b768-e2e7-46bb-a3a8-57dc77efc000"
      },
      "outputs": [
        {
          "data": {
            "text/plain": [
              "11"
            ]
          },
          "execution_count": 88,
          "metadata": {},
          "output_type": "execute_result"
        }
      ],
      "source": [
        "cars.displacement.isnull().sum()"
      ]
    },
    {
      "cell_type": "code",
      "execution_count": null,
      "metadata": {
        "id": "CiKDRy_UUisQ"
      },
      "outputs": [],
      "source": [
        "cars=cars.dropna(subset=['displacement'])"
      ]
    },
    {
      "cell_type": "markdown",
      "metadata": {
        "id": "y2bqpk8GXpvz"
      },
      "source": [
        "**Cylinder Attribute**"
      ]
    },
    {
      "cell_type": "code",
      "execution_count": null,
      "metadata": {
        "colab": {
          "base_uri": "https://localhost:8080/"
        },
        "id": "ZFjMGZgDUouO",
        "outputId": "a1e7b553-5b05-48e4-c820-ac5d105fa449"
      },
      "outputs": [
        {
          "data": {
            "text/plain": [
              "<bound method Series.info of 0       2.0\n",
              "1       2.0\n",
              "2       2.0\n",
              "3       2.0\n",
              "4       2.0\n",
              "       ... \n",
              "1271    4.0\n",
              "1272    4.0\n",
              "1273    4.0\n",
              "1274    4.0\n",
              "1275    4.0\n",
              "Name: cylinders, Length: 1190, dtype: float64>"
            ]
          },
          "execution_count": 90,
          "metadata": {},
          "output_type": "execute_result"
        }
      ],
      "source": [
        "cars.cylinders.info"
      ]
    },
    {
      "cell_type": "code",
      "execution_count": null,
      "metadata": {
        "colab": {
          "base_uri": "https://localhost:8080/"
        },
        "id": "N8hrYpjZUsyG",
        "outputId": "54142696-445e-43fc-8e81-712368e654ed"
      },
      "outputs": [
        {
          "data": {
            "text/plain": [
              "55"
            ]
          },
          "execution_count": 91,
          "metadata": {},
          "output_type": "execute_result"
        }
      ],
      "source": [
        "cars.cylinders.isnull().sum()"
      ]
    },
    {
      "cell_type": "code",
      "execution_count": null,
      "metadata": {
        "id": "DcOrA0rzUvb3"
      },
      "outputs": [],
      "source": [
        "cars['cylinders']=cars['cylinders'].replace(np.nan,cars.cylinders.median())"
      ]
    },
    {
      "cell_type": "code",
      "execution_count": null,
      "metadata": {
        "id": "3l5YSQr2Uwt-"
      },
      "outputs": [],
      "source": [
        "cars['cylinders'] = cars['cylinders'].astype(int)"
      ]
    },
    {
      "cell_type": "markdown",
      "metadata": {
        "id": "9Ak49HxzXvWU"
      },
      "source": [
        "**Fuel System Attribute**"
      ]
    },
    {
      "cell_type": "code",
      "execution_count": null,
      "metadata": {
        "colab": {
          "base_uri": "https://localhost:8080/"
        },
        "id": "uGU4G744U2bI",
        "outputId": "d9924e7b-f6e0-4ea0-bfde-f24cf6d2970f"
      },
      "outputs": [
        {
          "data": {
            "text/plain": [
              "<bound method Series.info of 0       Injection\n",
              "1       Injection\n",
              "2       Injection\n",
              "3       Injection\n",
              "4       Injection\n",
              "          ...    \n",
              "1271    Injection\n",
              "1272    Injection\n",
              "1273    Injection\n",
              "1274    Injection\n",
              "1275    Injection\n",
              "Name: fuel_system, Length: 1190, dtype: object>"
            ]
          },
          "execution_count": 95,
          "metadata": {},
          "output_type": "execute_result"
        }
      ],
      "source": [
        "cars.fuel_system.info"
      ]
    },
    {
      "cell_type": "code",
      "execution_count": null,
      "metadata": {
        "colab": {
          "base_uri": "https://localhost:8080/"
        },
        "id": "Zc8ZZ5LhU9pH",
        "outputId": "ffa44233-619e-49ef-a4b6-9e6991460849"
      },
      "outputs": [
        {
          "data": {
            "text/plain": [
              "array(['Injection', 'PGM - Fi', nan], dtype=object)"
            ]
          },
          "execution_count": 96,
          "metadata": {},
          "output_type": "execute_result"
        }
      ],
      "source": [
        "cars.fuel_system.unique()"
      ]
    },
    {
      "cell_type": "code",
      "execution_count": null,
      "metadata": {
        "id": "5ZijSGjYVBev"
      },
      "outputs": [],
      "source": [
        "cars['fuel_tank_capacity']=cars.fuel_tank_capacity.str.strip('litres')"
      ]
    },
    {
      "cell_type": "code",
      "execution_count": null,
      "metadata": {
        "id": "smvRsJOcVFdR"
      },
      "outputs": [],
      "source": [
        "cars['fuel_tank_capacity']=cars['fuel_tank_capacity'].replace(np.nan,cars.cylinders.median())"
      ]
    },
    {
      "cell_type": "code",
      "execution_count": null,
      "metadata": {
        "id": "CXGZMKwxVIb6"
      },
      "outputs": [],
      "source": [
        "cars['fuel_tank_capacity'] = cars['fuel_tank_capacity'].astype(float)"
      ]
    },
    {
      "cell_type": "markdown",
      "metadata": {
        "id": "WkURd7PPX0ZT"
      },
      "source": [
        " **Mileage Attribute**"
      ]
    },
    {
      "cell_type": "code",
      "execution_count": null,
      "metadata": {
        "colab": {
          "base_uri": "https://localhost:8080/"
        },
        "id": "Od1KP9l3VLNT",
        "outputId": "ea94f4c9-0fdc-48aa-9c21-0cc12e70c2db"
      },
      "outputs": [
        {
          "data": {
            "text/plain": [
              "<bound method Series.info of 0       ?23.6 km/litre\n",
              "1       ?23.6 km/litre\n",
              "2                  NaN\n",
              "3       ?23.6 km/litre\n",
              "4       ?23.6 km/litre\n",
              "             ...      \n",
              "1271     22.6 km/litre\n",
              "1272     22.6 km/litre\n",
              "1273       18 km/litre\n",
              "1274     14.3 km/litre\n",
              "1275     8.25 km/litre\n",
              "Name: city_mileage, Length: 1190, dtype: object>"
            ]
          },
          "execution_count": 100,
          "metadata": {},
          "output_type": "execute_result"
        }
      ],
      "source": [
        "cars.city_mileage.info"
      ]
    },
    {
      "cell_type": "code",
      "execution_count": null,
      "metadata": {
        "colab": {
          "base_uri": "https://localhost:8080/"
        },
        "id": "0iDm9zkuVOqC",
        "outputId": "c41c5484-8364-4a90-93f2-b360a069ac72"
      },
      "outputs": [
        {
          "name": "stderr",
          "output_type": "stream",
          "text": [
            "<ipython-input-101-8710b9d33754>:1: FutureWarning: The default value of regex will change from True to False in a future version. In addition, single character regular expressions will *not* be treated as literal strings when regex=True.\n",
            "  cars['city_mileage'] = cars['city_mileage'].str.replace('?',' ')\n"
          ]
        }
      ],
      "source": [
        "cars['city_mileage'] = cars['city_mileage'].str.replace('?',' ')\n",
        "cars['city_mileage']=cars['city_mileage'].str.strip('km/litre')\n",
        "cars['city_mileage']=cars['city_mileage'].str.replace(',','.')"
      ]
    },
    {
      "cell_type": "code",
      "execution_count": null,
      "metadata": {
        "colab": {
          "base_uri": "https://localhost:8080/"
        },
        "id": "6Z-qQ7F3VWDm",
        "outputId": "c89e46ea-61f0-4bab-a666-c4aaaf6190d1"
      },
      "outputs": [
        {
          "name": "stderr",
          "output_type": "stream",
          "text": [
            "<ipython-input-102-85c223034266>:1: FutureWarning: The default value of regex will change from True to False in a future version.\n",
            "  cars['city_mileage']=cars['city_mileage'].str.replace('12.5-12.7 ','12.5')\n"
          ]
        }
      ],
      "source": [
        "cars['city_mileage']=cars['city_mileage'].str.replace('12.5-12.7 ','12.5')"
      ]
    },
    {
      "cell_type": "code",
      "execution_count": null,
      "metadata": {
        "colab": {
          "base_uri": "https://localhost:8080/"
        },
        "id": "Buhxs4bAVYjg",
        "outputId": "661f3d1c-de81-4d6e-dbcc-0c859d3635bc"
      },
      "outputs": [
        {
          "data": {
            "text/plain": [
              "0       23.60\n",
              "1       23.60\n",
              "2       15.50\n",
              "3       23.60\n",
              "4       23.60\n",
              "        ...  \n",
              "1271    22.60\n",
              "1272    22.60\n",
              "1273    18.00\n",
              "1274    14.30\n",
              "1275     8.25\n",
              "Name: city_mileage, Length: 1190, dtype: float64"
            ]
          },
          "execution_count": 103,
          "metadata": {},
          "output_type": "execute_result"
        }
      ],
      "source": [
        "cars['city_mileage']=cars['city_mileage'].astype(float)\n",
        "cars['city_mileage']=cars['city_mileage'].replace(np.nan,cars.city_mileage.median())\n",
        "cars['city_mileage']"
      ]
    },
    {
      "cell_type": "markdown",
      "metadata": {
        "id": "k39W0wL6X7zL"
      },
      "source": [
        "**Seating Capacity Attribute**"
      ]
    },
    {
      "cell_type": "code",
      "execution_count": null,
      "metadata": {
        "colab": {
          "base_uri": "https://localhost:8080/"
        },
        "id": "4js5nzliVgBO",
        "outputId": "7260081c-9cb9-4380-a246-a14d707aa512"
      },
      "outputs": [
        {
          "data": {
            "text/plain": [
              "0       4.0\n",
              "1       4.0\n",
              "2       4.0\n",
              "3       4.0\n",
              "4       4.0\n",
              "       ... \n",
              "1271    5.0\n",
              "1272    5.0\n",
              "1273    5.0\n",
              "1274    5.0\n",
              "1275    7.0\n",
              "Name: seating_capacity, Length: 1190, dtype: float64"
            ]
          },
          "execution_count": 104,
          "metadata": {},
          "output_type": "execute_result"
        }
      ],
      "source": [
        "cars['seating_capacity']"
      ]
    },
    {
      "cell_type": "code",
      "execution_count": null,
      "metadata": {
        "id": "1enqTJhxVihW"
      },
      "outputs": [],
      "source": [
        "cars['seating_capacity'].isnull().sum()\n",
        "cars['seating_capacity']=cars['seating_capacity'].replace(np.nan,cars.seating_capacity.median())\n",
        "cars['seating_capacity']=cars['seating_capacity'].astype(int)"
      ]
    },
    {
      "cell_type": "markdown",
      "metadata": {
        "id": "vfMfCxbsYBfa"
      },
      "source": [
        "**Airbag Attribute**"
      ]
    },
    {
      "cell_type": "code",
      "execution_count": null,
      "metadata": {
        "colab": {
          "base_uri": "https://localhost:8080/"
        },
        "id": "9dQ_1WkhVpFG",
        "outputId": "212b67a7-d234-4dc4-a349-3b2f1b045c35"
      },
      "outputs": [
        {
          "data": {
            "text/plain": [
              "array([nan,  1.,  2.,  4.,  6.,  9.,  8.,  7., 10.,  5.,  3., 14.])"
            ]
          },
          "execution_count": 106,
          "metadata": {},
          "output_type": "execute_result"
        }
      ],
      "source": [
        "cars.number_of_airbags.unique()"
      ]
    },
    {
      "cell_type": "code",
      "execution_count": null,
      "metadata": {
        "colab": {
          "base_uri": "https://localhost:8080/"
        },
        "id": "2TVyuwKzVr4g",
        "outputId": "b170d04d-17c6-492a-b5e0-36d2e715e72e"
      },
      "outputs": [
        {
          "data": {
            "text/plain": [
              "<bound method Series.info of 0                                      NaN\n",
              "1                                      NaN\n",
              "2                                      NaN\n",
              "3                                      NaN\n",
              "4                                      NaN\n",
              "                       ...                \n",
              "1271    Front and rear sensors with camera\n",
              "1272              Rear sensors with camera\n",
              "1273              Rear sensors with camera\n",
              "1274    Front and rear sensors with camera\n",
              "1275              Rear sensors with camera\n",
              "Name: parking_assistance, Length: 1190, dtype: object>"
            ]
          },
          "execution_count": 107,
          "metadata": {},
          "output_type": "execute_result"
        }
      ],
      "source": [
        "cars['number_of_airbags']=cars['number_of_airbags'].replace(np.nan,cars.number_of_airbags.median())\n",
        "cars['number_of_airbags']=cars['number_of_airbags'].astype(int)\n",
        "cars.parking_assistance.info"
      ]
    },
    {
      "cell_type": "markdown",
      "metadata": {
        "id": "WNifoiERYG3r"
      },
      "source": [
        "**Parking Assisstance**"
      ]
    },
    {
      "cell_type": "code",
      "execution_count": null,
      "metadata": {
        "colab": {
          "base_uri": "https://localhost:8080/"
        },
        "id": "V9pBXZytVzh1",
        "outputId": "9d337431-d2e9-4b01-8a5d-7e3d77681123"
      },
      "outputs": [
        {
          "data": {
            "text/plain": [
              "285"
            ]
          },
          "execution_count": 108,
          "metadata": {},
          "output_type": "execute_result"
        }
      ],
      "source": [
        "cars.parking_assistance.isnull().sum()"
      ]
    },
    {
      "cell_type": "code",
      "execution_count": null,
      "metadata": {
        "colab": {
          "base_uri": "https://localhost:8080/"
        },
        "id": "RTdLRsXYV196",
        "outputId": "c9770e33-a25f-40ba-cc3a-5725f3825531"
      },
      "outputs": [
        {
          "data": {
            "text/plain": [
              "0       Yes\n",
              "1       Yes\n",
              "2       Yes\n",
              "3       Yes\n",
              "4       Yes\n",
              "       ... \n",
              "1271    Yes\n",
              "1272    Yes\n",
              "1273    Yes\n",
              "1274    Yes\n",
              "1275    Yes\n",
              "Name: child_safety_locks, Length: 1190, dtype: object"
            ]
          },
          "execution_count": 109,
          "metadata": {},
          "output_type": "execute_result"
        }
      ],
      "source": [
        "cars['parking_assistance']=cars['parking_assistance'].replace(np.nan,'No')\n",
        "cars.child_safety_locks"
      ]
    },
    {
      "cell_type": "markdown",
      "metadata": {
        "id": "zRrt5814YL8t"
      },
      "source": [
        "**Child Safety Attribute**"
      ]
    },
    {
      "cell_type": "code",
      "execution_count": null,
      "metadata": {
        "colab": {
          "base_uri": "https://localhost:8080/"
        },
        "id": "voey3i69V5yC",
        "outputId": "e1fa01f3-daa5-4651-bf0d-6b6f29805218"
      },
      "outputs": [
        {
          "data": {
            "text/plain": [
              "array(['Yes', nan], dtype=object)"
            ]
          },
          "execution_count": 110,
          "metadata": {},
          "output_type": "execute_result"
        }
      ],
      "source": [
        "cars.child_safety_locks.isnull().sum()\n",
        "cars.child_safety_locks.unique()"
      ]
    },
    {
      "cell_type": "code",
      "execution_count": null,
      "metadata": {
        "id": "EaoHukmKV9Ri"
      },
      "outputs": [],
      "source": [
        "cars['child_safety_locks']=cars['child_safety_locks'].replace(np.nan,'No')"
      ]
    },
    {
      "cell_type": "markdown",
      "metadata": {
        "id": "u1dGH3F4YSly"
      },
      "source": [
        "**Navigation System Attribute**"
      ]
    },
    {
      "cell_type": "code",
      "execution_count": null,
      "metadata": {
        "colab": {
          "base_uri": "https://localhost:8080/"
        },
        "id": "cduh0N0fV_db",
        "outputId": "ae897c34-1d17-4232-d3da-e6a3df631c1d"
      },
      "outputs": [
        {
          "data": {
            "text/plain": [
              "<bound method Series.info of 0       NaN\n",
              "1       NaN\n",
              "2       NaN\n",
              "3       NaN\n",
              "4       NaN\n",
              "       ... \n",
              "1271    Yes\n",
              "1272    Yes\n",
              "1273    Yes\n",
              "1274    Yes\n",
              "1275    Yes\n",
              "Name: navigation_system, Length: 1190, dtype: object>"
            ]
          },
          "execution_count": 112,
          "metadata": {},
          "output_type": "execute_result"
        }
      ],
      "source": [
        "cars.navigation_system.info"
      ]
    },
    {
      "cell_type": "code",
      "execution_count": null,
      "metadata": {
        "colab": {
          "base_uri": "https://localhost:8080/"
        },
        "id": "WggnVuOrWBsv",
        "outputId": "7454b10e-0f39-470e-a847-dd12da4f616e"
      },
      "outputs": [
        {
          "data": {
            "text/plain": [
              "array(['2 years /75000 Kms (years/distance whichever comes first)',\n",
              "       '2 years / Unlimited Kms',\n",
              "       '2 Years / 50,000 Kms (Whichever comes earlier)', nan,\n",
              "       '2 years /40000 Kms (years/distance whichever comes first)',\n",
              "       '2 Years / 75,000 KM (whichever is earlier)',\n",
              "       '3 years /100000 Kms (years/distance whichever comes first)',\n",
              "       '24 months /50000 Kms (whichever comes first)',\n",
              "       '2 Years / 100,000 Kms (whichever comes first)',\n",
              "       '3 Years/1,00,000 Kms (Whichever comes earlier)',\n",
              "       '2 Years / 40,000 Kms (Whichever comes earlier)',\n",
              "       '3 years / Unlimited Kms',\n",
              "       '3 Years / 100000 km (whichever comes first)',\n",
              "       '2 Years Unlimited Kilometres', '3 years/40,000 km',\n",
              "       '2 Years Warranty',\n",
              "       '4 years / 80000 Kms (years/distance whichever comes first)',\n",
              "       '2 years /1,00,000 Kms (years/distance whichever comes first)',\n",
              "       '3 years/1 lakh kms (whichever is earlier)',\n",
              "       '3 years / 100,000 Kms',\n",
              "       '2 years /50000 Kms (years/distance whichever comes first)',\n",
              "       '1 Year /Unlimited KMs', '3 Years Warranty',\n",
              "       '3 years / 100,000 Km of warranty**',\n",
              "       '2 years without mileage limit'], dtype=object)"
            ]
          },
          "execution_count": 113,
          "metadata": {},
          "output_type": "execute_result"
        }
      ],
      "source": [
        "cars['navigation_system']=cars['navigation_system'].replace(np.nan,'No')\n",
        "cars.basic_warranty.unique()"
      ]
    },
    {
      "cell_type": "markdown",
      "metadata": {
        "id": "BFgKbpmvYdi7"
      },
      "source": [
        "**Warranty Attribute**"
      ]
    },
    {
      "cell_type": "code",
      "execution_count": null,
      "metadata": {
        "colab": {
          "base_uri": "https://localhost:8080/"
        },
        "id": "VexIkdfcWG-N",
        "outputId": "73363164-ba5a-4840-82b6-4ea1d831dca9"
      },
      "outputs": [
        {
          "data": {
            "text/plain": [
              "415"
            ]
          },
          "execution_count": 114,
          "metadata": {},
          "output_type": "execute_result"
        }
      ],
      "source": [
        "cars['basic_warranty']=cars['basic_warranty'].str.split('Years').str[0].str.strip()\n",
        "cars['basic_warranty']=cars['basic_warranty'].str.extract('(\\d+)').astype(float)\n",
        "cars.basic_warranty.isnull().sum()"
      ]
    },
    {
      "cell_type": "code",
      "execution_count": null,
      "metadata": {
        "id": "59c9L51RWNSl"
      },
      "outputs": [],
      "source": [
        "cars['basic_warranty']=cars['basic_warranty'].replace(np.nan,cars.basic_warranty.median())\n",
        "cars['basic_warranty']=cars['basic_warranty'].astype(int)"
      ]
    },
    {
      "cell_type": "code",
      "execution_count": null,
      "metadata": {
        "colab": {
          "base_uri": "https://localhost:8080/",
          "height": 313
        },
        "id": "uIwybBfbWR6d",
        "outputId": "7442208a-d91e-4029-fd4f-cf2ec3f1fec0"
      },
      "outputs": [
        {
          "data": {
            "text/html": [
              "\n",
              "  <div id=\"df-e78c978d-3e55-4b84-84ee-d0587f11595c\" class=\"colab-df-container\">\n",
              "    <div>\n",
              "<style scoped>\n",
              "    .dataframe tbody tr th:only-of-type {\n",
              "        vertical-align: middle;\n",
              "    }\n",
              "\n",
              "    .dataframe tbody tr th {\n",
              "        vertical-align: top;\n",
              "    }\n",
              "\n",
              "    .dataframe thead th {\n",
              "        text-align: right;\n",
              "    }\n",
              "</style>\n",
              "<table border=\"1\" class=\"dataframe\">\n",
              "  <thead>\n",
              "    <tr style=\"text-align: right;\">\n",
              "      <th></th>\n",
              "      <th>company</th>\n",
              "      <th>model</th>\n",
              "      <th>price</th>\n",
              "      <th>body_type</th>\n",
              "      <th>displacement</th>\n",
              "      <th>cylinders</th>\n",
              "      <th>fuel_system</th>\n",
              "      <th>fuel_tank_capacity</th>\n",
              "      <th>fuel_type</th>\n",
              "      <th>city_mileage</th>\n",
              "      <th>seating_capacity</th>\n",
              "      <th>basic_warranty</th>\n",
              "      <th>child_safety_locks</th>\n",
              "      <th>number_of_airbags</th>\n",
              "      <th>parking_assistance</th>\n",
              "      <th>navigation_system</th>\n",
              "    </tr>\n",
              "  </thead>\n",
              "  <tbody>\n",
              "    <tr>\n",
              "      <th>0</th>\n",
              "      <td>Tata</td>\n",
              "      <td>Nano Genx</td>\n",
              "      <td>292667</td>\n",
              "      <td>Hatchback</td>\n",
              "      <td>624 cc</td>\n",
              "      <td>2</td>\n",
              "      <td>Injection</td>\n",
              "      <td>24.0</td>\n",
              "      <td>Petrol</td>\n",
              "      <td>23.6</td>\n",
              "      <td>4</td>\n",
              "      <td>2</td>\n",
              "      <td>Yes</td>\n",
              "      <td>2</td>\n",
              "      <td>No</td>\n",
              "      <td>No</td>\n",
              "    </tr>\n",
              "    <tr>\n",
              "      <th>1</th>\n",
              "      <td>Tata</td>\n",
              "      <td>Nano Genx</td>\n",
              "      <td>236447</td>\n",
              "      <td>Hatchback</td>\n",
              "      <td>624 cc</td>\n",
              "      <td>2</td>\n",
              "      <td>Injection</td>\n",
              "      <td>24.0</td>\n",
              "      <td>Petrol</td>\n",
              "      <td>23.6</td>\n",
              "      <td>4</td>\n",
              "      <td>2</td>\n",
              "      <td>Yes</td>\n",
              "      <td>2</td>\n",
              "      <td>No</td>\n",
              "      <td>No</td>\n",
              "    </tr>\n",
              "    <tr>\n",
              "      <th>2</th>\n",
              "      <td>Tata</td>\n",
              "      <td>Nano Genx</td>\n",
              "      <td>296661</td>\n",
              "      <td>Hatchback</td>\n",
              "      <td>624 cc</td>\n",
              "      <td>2</td>\n",
              "      <td>Injection</td>\n",
              "      <td>15.0</td>\n",
              "      <td>CNG</td>\n",
              "      <td>15.5</td>\n",
              "      <td>4</td>\n",
              "      <td>2</td>\n",
              "      <td>Yes</td>\n",
              "      <td>2</td>\n",
              "      <td>No</td>\n",
              "      <td>No</td>\n",
              "    </tr>\n",
              "    <tr>\n",
              "      <th>3</th>\n",
              "      <td>Tata</td>\n",
              "      <td>Nano Genx</td>\n",
              "      <td>334768</td>\n",
              "      <td>Hatchback</td>\n",
              "      <td>624 cc</td>\n",
              "      <td>2</td>\n",
              "      <td>Injection</td>\n",
              "      <td>24.0</td>\n",
              "      <td>Petrol</td>\n",
              "      <td>23.6</td>\n",
              "      <td>4</td>\n",
              "      <td>2</td>\n",
              "      <td>Yes</td>\n",
              "      <td>2</td>\n",
              "      <td>No</td>\n",
              "      <td>No</td>\n",
              "    </tr>\n",
              "    <tr>\n",
              "      <th>4</th>\n",
              "      <td>Tata</td>\n",
              "      <td>Nano Genx</td>\n",
              "      <td>272223</td>\n",
              "      <td>Hatchback</td>\n",
              "      <td>624 cc</td>\n",
              "      <td>2</td>\n",
              "      <td>Injection</td>\n",
              "      <td>24.0</td>\n",
              "      <td>Petrol</td>\n",
              "      <td>23.6</td>\n",
              "      <td>4</td>\n",
              "      <td>2</td>\n",
              "      <td>Yes</td>\n",
              "      <td>2</td>\n",
              "      <td>No</td>\n",
              "      <td>No</td>\n",
              "    </tr>\n",
              "  </tbody>\n",
              "</table>\n",
              "</div>\n",
              "    <div class=\"colab-df-buttons\">\n",
              "\n",
              "  <div class=\"colab-df-container\">\n",
              "    <button class=\"colab-df-convert\" onclick=\"convertToInteractive('df-e78c978d-3e55-4b84-84ee-d0587f11595c')\"\n",
              "            title=\"Convert this dataframe to an interactive table.\"\n",
              "            style=\"display:none;\">\n",
              "\n",
              "  <svg xmlns=\"http://www.w3.org/2000/svg\" height=\"24px\" viewBox=\"0 -960 960 960\">\n",
              "    <path d=\"M120-120v-720h720v720H120Zm60-500h600v-160H180v160Zm220 220h160v-160H400v160Zm0 220h160v-160H400v160ZM180-400h160v-160H180v160Zm440 0h160v-160H620v160ZM180-180h160v-160H180v160Zm440 0h160v-160H620v160Z\"/>\n",
              "  </svg>\n",
              "    </button>\n",
              "\n",
              "  <style>\n",
              "    .colab-df-container {\n",
              "      display:flex;\n",
              "      gap: 12px;\n",
              "    }\n",
              "\n",
              "    .colab-df-convert {\n",
              "      background-color: #E8F0FE;\n",
              "      border: none;\n",
              "      border-radius: 50%;\n",
              "      cursor: pointer;\n",
              "      display: none;\n",
              "      fill: #1967D2;\n",
              "      height: 32px;\n",
              "      padding: 0 0 0 0;\n",
              "      width: 32px;\n",
              "    }\n",
              "\n",
              "    .colab-df-convert:hover {\n",
              "      background-color: #E2EBFA;\n",
              "      box-shadow: 0px 1px 2px rgba(60, 64, 67, 0.3), 0px 1px 3px 1px rgba(60, 64, 67, 0.15);\n",
              "      fill: #174EA6;\n",
              "    }\n",
              "\n",
              "    .colab-df-buttons div {\n",
              "      margin-bottom: 4px;\n",
              "    }\n",
              "\n",
              "    [theme=dark] .colab-df-convert {\n",
              "      background-color: #3B4455;\n",
              "      fill: #D2E3FC;\n",
              "    }\n",
              "\n",
              "    [theme=dark] .colab-df-convert:hover {\n",
              "      background-color: #434B5C;\n",
              "      box-shadow: 0px 1px 3px 1px rgba(0, 0, 0, 0.15);\n",
              "      filter: drop-shadow(0px 1px 2px rgba(0, 0, 0, 0.3));\n",
              "      fill: #FFFFFF;\n",
              "    }\n",
              "  </style>\n",
              "\n",
              "    <script>\n",
              "      const buttonEl =\n",
              "        document.querySelector('#df-e78c978d-3e55-4b84-84ee-d0587f11595c button.colab-df-convert');\n",
              "      buttonEl.style.display =\n",
              "        google.colab.kernel.accessAllowed ? 'block' : 'none';\n",
              "\n",
              "      async function convertToInteractive(key) {\n",
              "        const element = document.querySelector('#df-e78c978d-3e55-4b84-84ee-d0587f11595c');\n",
              "        const dataTable =\n",
              "          await google.colab.kernel.invokeFunction('convertToInteractive',\n",
              "                                                    [key], {});\n",
              "        if (!dataTable) return;\n",
              "\n",
              "        const docLinkHtml = 'Like what you see? Visit the ' +\n",
              "          '<a target=\"_blank\" href=https://colab.research.google.com/notebooks/data_table.ipynb>data table notebook</a>'\n",
              "          + ' to learn more about interactive tables.';\n",
              "        element.innerHTML = '';\n",
              "        dataTable['output_type'] = 'display_data';\n",
              "        await google.colab.output.renderOutput(dataTable, element);\n",
              "        const docLink = document.createElement('div');\n",
              "        docLink.innerHTML = docLinkHtml;\n",
              "        element.appendChild(docLink);\n",
              "      }\n",
              "    </script>\n",
              "  </div>\n",
              "\n",
              "\n",
              "<div id=\"df-8c1aed2f-9a9e-4af9-90d0-a13c59a672c5\">\n",
              "  <button class=\"colab-df-quickchart\" onclick=\"quickchart('df-8c1aed2f-9a9e-4af9-90d0-a13c59a672c5')\"\n",
              "            title=\"Suggest charts\"\n",
              "            style=\"display:none;\">\n",
              "\n",
              "<svg xmlns=\"http://www.w3.org/2000/svg\" height=\"24px\"viewBox=\"0 0 24 24\"\n",
              "     width=\"24px\">\n",
              "    <g>\n",
              "        <path d=\"M19 3H5c-1.1 0-2 .9-2 2v14c0 1.1.9 2 2 2h14c1.1 0 2-.9 2-2V5c0-1.1-.9-2-2-2zM9 17H7v-7h2v7zm4 0h-2V7h2v10zm4 0h-2v-4h2v4z\"/>\n",
              "    </g>\n",
              "</svg>\n",
              "  </button>\n",
              "\n",
              "<style>\n",
              "  .colab-df-quickchart {\n",
              "      --bg-color: #E8F0FE;\n",
              "      --fill-color: #1967D2;\n",
              "      --hover-bg-color: #E2EBFA;\n",
              "      --hover-fill-color: #174EA6;\n",
              "      --disabled-fill-color: #AAA;\n",
              "      --disabled-bg-color: #DDD;\n",
              "  }\n",
              "\n",
              "  [theme=dark] .colab-df-quickchart {\n",
              "      --bg-color: #3B4455;\n",
              "      --fill-color: #D2E3FC;\n",
              "      --hover-bg-color: #434B5C;\n",
              "      --hover-fill-color: #FFFFFF;\n",
              "      --disabled-bg-color: #3B4455;\n",
              "      --disabled-fill-color: #666;\n",
              "  }\n",
              "\n",
              "  .colab-df-quickchart {\n",
              "    background-color: var(--bg-color);\n",
              "    border: none;\n",
              "    border-radius: 50%;\n",
              "    cursor: pointer;\n",
              "    display: none;\n",
              "    fill: var(--fill-color);\n",
              "    height: 32px;\n",
              "    padding: 0;\n",
              "    width: 32px;\n",
              "  }\n",
              "\n",
              "  .colab-df-quickchart:hover {\n",
              "    background-color: var(--hover-bg-color);\n",
              "    box-shadow: 0 1px 2px rgba(60, 64, 67, 0.3), 0 1px 3px 1px rgba(60, 64, 67, 0.15);\n",
              "    fill: var(--button-hover-fill-color);\n",
              "  }\n",
              "\n",
              "  .colab-df-quickchart-complete:disabled,\n",
              "  .colab-df-quickchart-complete:disabled:hover {\n",
              "    background-color: var(--disabled-bg-color);\n",
              "    fill: var(--disabled-fill-color);\n",
              "    box-shadow: none;\n",
              "  }\n",
              "\n",
              "  .colab-df-spinner {\n",
              "    border: 2px solid var(--fill-color);\n",
              "    border-color: transparent;\n",
              "    border-bottom-color: var(--fill-color);\n",
              "    animation:\n",
              "      spin 1s steps(1) infinite;\n",
              "  }\n",
              "\n",
              "  @keyframes spin {\n",
              "    0% {\n",
              "      border-color: transparent;\n",
              "      border-bottom-color: var(--fill-color);\n",
              "      border-left-color: var(--fill-color);\n",
              "    }\n",
              "    20% {\n",
              "      border-color: transparent;\n",
              "      border-left-color: var(--fill-color);\n",
              "      border-top-color: var(--fill-color);\n",
              "    }\n",
              "    30% {\n",
              "      border-color: transparent;\n",
              "      border-left-color: var(--fill-color);\n",
              "      border-top-color: var(--fill-color);\n",
              "      border-right-color: var(--fill-color);\n",
              "    }\n",
              "    40% {\n",
              "      border-color: transparent;\n",
              "      border-right-color: var(--fill-color);\n",
              "      border-top-color: var(--fill-color);\n",
              "    }\n",
              "    60% {\n",
              "      border-color: transparent;\n",
              "      border-right-color: var(--fill-color);\n",
              "    }\n",
              "    80% {\n",
              "      border-color: transparent;\n",
              "      border-right-color: var(--fill-color);\n",
              "      border-bottom-color: var(--fill-color);\n",
              "    }\n",
              "    90% {\n",
              "      border-color: transparent;\n",
              "      border-bottom-color: var(--fill-color);\n",
              "    }\n",
              "  }\n",
              "</style>\n",
              "\n",
              "  <script>\n",
              "    async function quickchart(key) {\n",
              "      const quickchartButtonEl =\n",
              "        document.querySelector('#' + key + ' button');\n",
              "      quickchartButtonEl.disabled = true;  // To prevent multiple clicks.\n",
              "      quickchartButtonEl.classList.add('colab-df-spinner');\n",
              "      try {\n",
              "        const charts = await google.colab.kernel.invokeFunction(\n",
              "            'suggestCharts', [key], {});\n",
              "      } catch (error) {\n",
              "        console.error('Error during call to suggestCharts:', error);\n",
              "      }\n",
              "      quickchartButtonEl.classList.remove('colab-df-spinner');\n",
              "      quickchartButtonEl.classList.add('colab-df-quickchart-complete');\n",
              "    }\n",
              "    (() => {\n",
              "      let quickchartButtonEl =\n",
              "        document.querySelector('#df-8c1aed2f-9a9e-4af9-90d0-a13c59a672c5 button');\n",
              "      quickchartButtonEl.style.display =\n",
              "        google.colab.kernel.accessAllowed ? 'block' : 'none';\n",
              "    })();\n",
              "  </script>\n",
              "</div>\n",
              "\n",
              "    </div>\n",
              "  </div>\n"
            ],
            "text/plain": [
              "  company      model   price  body_type displacement  cylinders fuel_system  \\\n",
              "0    Tata  Nano Genx  292667  Hatchback       624 cc          2   Injection   \n",
              "1    Tata  Nano Genx  236447  Hatchback       624 cc          2   Injection   \n",
              "2    Tata  Nano Genx  296661  Hatchback       624 cc          2   Injection   \n",
              "3    Tata  Nano Genx  334768  Hatchback       624 cc          2   Injection   \n",
              "4    Tata  Nano Genx  272223  Hatchback       624 cc          2   Injection   \n",
              "\n",
              "   fuel_tank_capacity fuel_type  city_mileage  seating_capacity  \\\n",
              "0                24.0    Petrol          23.6                 4   \n",
              "1                24.0    Petrol          23.6                 4   \n",
              "2                15.0       CNG          15.5                 4   \n",
              "3                24.0    Petrol          23.6                 4   \n",
              "4                24.0    Petrol          23.6                 4   \n",
              "\n",
              "   basic_warranty child_safety_locks  number_of_airbags parking_assistance  \\\n",
              "0               2                Yes                  2                 No   \n",
              "1               2                Yes                  2                 No   \n",
              "2               2                Yes                  2                 No   \n",
              "3               2                Yes                  2                 No   \n",
              "4               2                Yes                  2                 No   \n",
              "\n",
              "  navigation_system  \n",
              "0                No  \n",
              "1                No  \n",
              "2                No  \n",
              "3                No  \n",
              "4                No  "
            ]
          },
          "execution_count": 116,
          "metadata": {},
          "output_type": "execute_result"
        }
      ],
      "source": [
        "cars.head()"
      ]
    },
    {
      "cell_type": "code",
      "execution_count": null,
      "metadata": {
        "colab": {
          "base_uri": "https://localhost:8080/"
        },
        "id": "lh_KVW4EWTwd",
        "outputId": "460a6350-9c6e-4aa4-fa82-2b9c199d43f0"
      },
      "outputs": [
        {
          "data": {
            "text/plain": [
              "Maruti Suzuki       149\n",
              "Hyundai             129\n",
              "Mahindra            117\n",
              "Tata                 94\n",
              "Toyota               82\n",
              "Honda                64\n",
              "Skoda                43\n",
              "Ford                 43\n",
              "Bmw                  37\n",
              "Renault              36\n",
              "Volkswagen           34\n",
              "Audi                 31\n",
              "Nissan               29\n",
              "Jeep                 28\n",
              "Land Rover Rover     27\n",
              "Fiat                 23\n",
              "Jaguar               22\n",
              "Kia                  21\n",
              "Volvo                18\n",
              "Datsun               15\n",
              "Porsche              14\n",
              "Maruti Suzuki R      14\n",
              "Lamborghini          13\n",
              "Mg                   11\n",
              "Icml                 11\n",
              "Land Rover           10\n",
              "Lexus                10\n",
              "Mini                 10\n",
              "Maserati              9\n",
              "Ferrari               8\n",
              "Mitsubishi            7\n",
              "Premier               6\n",
              "Bentley               6\n",
              "Force                 6\n",
              "Isuzu                 5\n",
              "Aston Martin          3\n",
              "Bajaj                 2\n",
              "Bugatti               2\n",
              "Dc                    1\n",
              "Name: company, dtype: int64"
            ]
          },
          "execution_count": 117,
          "metadata": {},
          "output_type": "execute_result"
        }
      ],
      "source": [
        "cars.company.value_counts()"
      ]
    },
    {
      "cell_type": "markdown",
      "metadata": {
        "id": "iJg5lgkPWZ7D"
      },
      "source": [
        "**Plotting Section**"
      ]
    },
    {
      "cell_type": "code",
      "execution_count": null,
      "metadata": {
        "colab": {
          "base_uri": "https://localhost:8080/",
          "height": 472
        },
        "id": "9yCMSR9yWZPN",
        "outputId": "7193d6fa-cb2b-47be-bbdd-be3489d6b503"
      },
      "outputs": [
        {
          "data": {
            "image/png": "[encoded data removed]",
            "text/plain": [
              "<Figure size 640x480 with 1 Axes>"
            ]
          },
          "metadata": {},
          "output_type": "display_data"
        }
      ],
      "source": [
        "plt.ticklabel_format(style='plain')\n",
        "sns.histplot(cars['price'], kde=True)\n",
        "plt.xlabel('price')\n",
        "plt.title('Histogram Plot')\n",
        "plt.show()"
      ]
    },
    {
      "cell_type": "code",
      "execution_count": null,
      "metadata": {
        "colab": {
          "base_uri": "https://localhost:8080/",
          "height": 564
        },
        "id": "HU6-QrgIWnP2",
        "outputId": "ba1fc93d-508b-4e2e-d5b1-d3117a13b6fa"
      },
      "outputs": [
        {
          "data": {
            "image/png": "[encoded data removed]",
            "text/plain": [
              "<Figure size 1000x600 with 1 Axes>"
            ]
          },
          "metadata": {},
          "output_type": "display_data"
        }
      ],
      "source": [
        "# Histogram\n",
        "plt.figure(figsize=(10, 6))\n",
        "sns.histplot(cars['fuel_tank_capacity'], kde=True)\n",
        "plt.title('Distribution of Fuel Tank Capacity')\n",
        "plt.xlabel('Fuel Tank Capacity')\n",
        "plt.ylabel('Frequency')\n",
        "plt.show()"
      ]
    },
    {
      "cell_type": "code",
      "execution_count": null,
      "metadata": {
        "colab": {
          "base_uri": "https://localhost:8080/",
          "height": 564
        },
        "id": "VlKn4wQ8Wr7f",
        "outputId": "0e40a8e5-e7cf-4a48-dca1-9b51d485e1dd"
      },
      "outputs": [
        {
          "data": {
            "image/png": "[encoded data removed]",
            "text/plain": [
              "<Figure size 1000x600 with 1 Axes>"
            ]
          },
          "metadata": {},
          "output_type": "display_data"
        }
      ],
      "source": [
        "# Boxplot\n",
        "plt.figure(figsize=(10, 6))\n",
        "sns.boxplot(x=cars['price'])\n",
        "plt.title('Boxplot of Prices')\n",
        "plt.xlabel('Price')\n",
        "plt.show()"
      ]
    },
    {
      "cell_type": "code",
      "execution_count": null,
      "metadata": {
        "colab": {
          "base_uri": "https://localhost:8080/",
          "height": 455
        },
        "id": "oS-q8XO8Wuyc",
        "outputId": "f25ef4fe-e3c5-41cd-bdf4-ff83cf10760b"
      },
      "outputs": [
        {
          "data": {
            "image/png": "[encoded data removed]",
            "text/plain": [
              "<Figure size 2500x600 with 1 Axes>"
            ]
          },
          "metadata": {},
          "output_type": "display_data"
        }
      ],
      "source": [
        "plt.figure(figsize=(25, 6))\n",
        "sns.countplot(x='company', data=cars, palette='pastel')\n",
        "plt.title('Count of Cars by Company')\n",
        "plt.xlabel('Car Company')\n",
        "plt.ylabel('Count')\n",
        "plt.xticks(rotation=45)\n",
        "plt.show()"
      ]
    },
    {
      "cell_type": "markdown",
      "metadata": {
        "id": "HX5WWFg-Ype6"
      },
      "source": [
        "**Bivariate Analysis**"
      ]
    },
    {
      "cell_type": "code",
      "execution_count": null,
      "metadata": {
        "colab": {
          "base_uri": "https://localhost:8080/",
          "height": 873
        },
        "id": "t_9PXFeVYozr",
        "outputId": "02c0a955-7425-4650-dcba-954bc54aa186"
      },
      "outputs": [
        {
          "name": "stderr",
          "output_type": "stream",
          "text": [
            "<ipython-input-124-385202db4a22>:1: FutureWarning: The default value of numeric_only in DataFrame.corr is deprecated. In a future version, it will default to False. Select only valid columns or specify the value of numeric_only to silence this warning.\n",
            "  correlation_matrix = cars.corr()\n"
          ]
        },
        {
          "data": {
            "image/png": "[encoded data removed]",
            "text/plain": [
              "<Figure size 1000x800 with 2 Axes>"
            ]
          },
          "metadata": {},
          "output_type": "display_data"
        }
      ],
      "source": [
        "correlation_matrix = cars.corr()\n",
        "plt.figure(figsize=(10, 8))\n",
        "sns.heatmap(correlation_matrix, annot=True, cmap='coolwarm', fmt=\".2f\")\n",
        "plt.title('Correlation Matrix')\n",
        "plt.show()"
      ]
    },
    {
      "cell_type": "code",
      "execution_count": null,
      "metadata": {
        "colab": {
          "base_uri": "https://localhost:8080/",
          "height": 1000
        },
        "id": "dT__4mYhZA_6",
        "outputId": "97d02fec-1a56-48b0-8f81-98b0a1d2a177"
      },
      "outputs": [
        {
          "data": {
            "image/png": "[encoded data removed]",
            "text/plain": [
              "<Figure size 2000x1500 with 1 Axes>"
            ]
          },
          "metadata": {},
          "output_type": "display_data"
        }
      ],
      "source": [
        "plt.figure(figsize=(20, 15))\n",
        "sns.scatterplot(x='price', y='cylinders', data=cars, hue='company', palette='viridis', s=200)\n",
        "plt.title('Scatter Plot: Price vs Cylinders')\n",
        "plt.xlabel('Price')\n",
        "plt.ylabel('Cylinders')\n",
        "plt.legend(title='Company')\n",
        "plt.show()"
      ]
    },
    {
      "cell_type": "code",
      "execution_count": null,
      "metadata": {
        "id": "ZFTkEcpkZFut"
      },
      "outputs": [],
      "source": [
        "plt.figure(figsize=(28, 8))\n",
        "sns.lineplot(x='Company', y='price', hue='body_type', data=cars, palette='Set2')\n",
        "plt.title('Line Plot: Price by Company with Body Type')\n",
        "plt.xlabel('Company')\n",
        "plt.ylabel('Price')\n",
        "plt.legend(title='Body Type')\n",
        "plt.show()"
      ]
    }
  ],
  "metadata": {
    "colab": {
      "provenance": []
    },
    "kernelspec": {
      "display_name": "Python 3",
      "name": "python3"
    },
    "language_info": {
      "name": "python"
    }
  },
  "nbformat": 4,
  "nbformat_minor": 0
}
